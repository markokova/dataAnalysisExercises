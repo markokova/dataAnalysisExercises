{
  "nbformat": 4,
  "nbformat_minor": 0,
  "metadata": {
    "colab": {
      "provenance": []
    },
    "kernelspec": {
      "name": "python3",
      "display_name": "Python 3"
    },
    "language_info": {
      "name": "python"
    }
  },
  "cells": [
    {
      "cell_type": "markdown",
      "source": [
        "# **Laboratorijska vježba 3**: Zadaci za samostalni rad\n",
        "\n",
        "## **Podaci iz popisa stanovništa u SAD-u iz 2015. godine**\n",
        "\n",
        "U ovoj laboratorijskoj vježbi istražit ćemo skup podataka dobiven iz popisa stanovništva 2015. godine u SAD-u. Skup podataka dostupan je u *Data/acs2015_county_data.csv*. \n"
      ],
      "metadata": {
        "id": "SIOX6OjUo0TQ"
      }
    },
    {
      "cell_type": "code",
      "source": [
        "!head Data/acs2015_county_data.csv"
      ],
      "metadata": {
        "colab": {
          "base_uri": "https://localhost:8080/"
        },
        "id": "fGvIvs0tplVn",
        "outputId": "80a7da4e-252f-44d8-8690-69342b68859c"
      },
      "execution_count": null,
      "outputs": [
        {
          "output_type": "stream",
          "name": "stdout",
          "text": [
            "CensusId,State,County,TotalPop,Men,Women,Hispanic,White,Black,Native,Asian,Pacific,Citizen,Income,IncomeErr,IncomePerCap,IncomePerCapErr,Poverty,ChildPoverty,Professional,Service,Office,Construction,Production,Drive,Carpool,Transit,Walk,OtherTransp,WorkAtHome,MeanCommute,Employed,PrivateWork,PublicWork,SelfEmployed,FamilyWork,Unemployment\r\n",
            "1001,Alabama,Autauga,55221,26745,28476,2.6,75.8,18.5,0.4,1.0,0.0,40725,51281.0,2391.0,24974,1080,12.9,18.6,33.2,17.0,24.2,8.6,17.1,87.5,8.8,0.1,0.5,1.3,1.8,26.5,23986,73.6,20.9,5.5,0.0,7.6\r\n",
            "1003,Alabama,Baldwin,195121,95314,99807,4.5,83.1,9.5,0.6,0.7,0.0,147695,50254.0,1263.0,27317,711,13.4,19.2,33.1,17.7,27.1,10.8,11.2,84.7,8.8,0.1,1.0,1.4,3.9,26.4,85953,81.5,12.3,5.8,0.4,7.5\r\n",
            "1005,Alabama,Barbour,26932,14497,12435,4.6,46.2,46.7,0.2,0.4,0.0,20714,32964.0,2973.0,16824,798,26.7,45.3,26.8,16.1,23.1,10.8,23.1,83.8,10.9,0.4,1.8,1.5,1.6,24.1,8597,71.8,20.8,7.3,0.1,17.6\r\n",
            "1007,Alabama,Bibb,22604,12073,10531,2.2,74.5,21.4,0.4,0.1,0.0,17495,38678.0,3995.0,18431,1618,16.8,27.9,21.5,17.9,17.8,19.0,23.7,83.2,13.5,0.5,0.6,1.5,0.7,28.8,8294,76.8,16.1,6.7,0.4,8.3\r\n",
            "1009,Alabama,Blount,57710,28512,29198,8.6,87.9,1.5,0.3,0.1,0.0,42345,45813.0,3141.0,20532,708,16.7,27.2,28.5,14.1,23.9,13.5,19.9,84.9,11.2,0.4,0.9,0.4,2.3,34.9,22189,82.0,13.5,4.2,0.4,7.7\r\n",
            "1011,Alabama,Bullock,10678,5660,5018,4.4,22.2,70.7,1.2,0.2,0.0,8057,31938.0,5884.0,17580,2055,24.6,38.4,18.8,15.0,19.7,20.1,26.4,74.9,14.9,0.7,5.0,1.7,2.8,27.5,3865,79.5,15.1,5.4,0.0,18.0\r\n",
            "1013,Alabama,Butler,20354,9502,10852,1.2,53.3,43.8,0.1,0.4,0.0,15581,32229.0,1793.0,18390,714,25.4,39.2,27.5,16.6,21.9,10.3,23.7,84.5,12.4,0.0,0.8,0.6,1.7,24.6,7813,77.4,16.2,6.2,0.2,10.9\r\n",
            "1015,Alabama,Calhoun,116648,56274,60374,3.5,73.0,20.3,0.2,0.9,0.0,88612,41703.0,925.0,21374,489,20.5,31.6,27.3,17.7,24.2,10.5,20.4,85.3,9.4,0.2,1.2,1.2,2.7,24.1,47401,74.1,20.8,5.0,0.1,12.3\r\n",
            "1017,Alabama,Chambers,34079,16258,17821,0.4,57.3,40.3,0.2,0.8,0.0,26462,34177.0,2949.0,21071,1366,21.6,37.2,23.3,14.5,26.3,11.5,24.4,85.1,11.9,0.2,0.3,0.4,2.1,25.1,13689,85.1,12.1,2.8,0.0,8.9\r\n"
          ]
        }
      ]
    },
    {
      "cell_type": "code",
      "source": [
        "import pandas as pd\n",
        "import pandas as pd\n",
        "import numpy as np\n",
        "import matplotlib.pyplot as plt\n",
        "%matplotlib inline\n",
        "import seaborn as sns\n",
        "import math\n",
        "\n",
        "#load the statistical libraries\n",
        "from statsmodels.stats import diagnostic\n",
        "from scipy import stats"
      ],
      "metadata": {
        "id": "3O06UCc7p6GH"
      },
      "execution_count": null,
      "outputs": []
    },
    {
      "cell_type": "code",
      "source": [
        "data_folder = './Data/'\n",
        "df = pd.read_csv(data_folder + 'acs2015_county_data.csv')"
      ],
      "metadata": {
        "id": "Bg-b-5vTp7jO"
      },
      "execution_count": null,
      "outputs": []
    },
    {
      "cell_type": "code",
      "source": [
        "df.columns"
      ],
      "metadata": {
        "colab": {
          "base_uri": "https://localhost:8080/"
        },
        "id": "ZUyIVzNkp_VV",
        "outputId": "e7036339-8040-4a64-a018-3f445ac98663"
      },
      "execution_count": null,
      "outputs": [
        {
          "output_type": "execute_result",
          "data": {
            "text/plain": [
              "Index(['CensusId', 'State', 'County', 'TotalPop', 'Men', 'Women', 'Hispanic',\n",
              "       'White', 'Black', 'Native', 'Asian', 'Pacific', 'Citizen', 'Income',\n",
              "       'IncomeErr', 'IncomePerCap', 'IncomePerCapErr', 'Poverty',\n",
              "       'ChildPoverty', 'Professional', 'Service', 'Office', 'Construction',\n",
              "       'Production', 'Drive', 'Carpool', 'Transit', 'Walk', 'OtherTransp',\n",
              "       'WorkAtHome', 'MeanCommute', 'Employed', 'PrivateWork', 'PublicWork',\n",
              "       'SelfEmployed', 'FamilyWork', 'Unemployment'],\n",
              "      dtype='object')"
            ]
          },
          "metadata": {},
          "execution_count": 4
        }
      ]
    },
    {
      "cell_type": "markdown",
      "source": [
        "## **Zadatak 1: Izračun deskriptivne statistike i testiranje distribucija**\n",
        "\n",
        "Za numeričke varijable u skupu podataka izračunajte osnovne mjere u okviru deskriptivne statistike. Zatim se fokusirajte na dohodak po stanovniku države (*IncomePerCap*). Koliko u prosjeku zarađuju stanovnici SAD-a? Kolika je medijalna plaća? "
      ],
      "metadata": {
        "id": "OScnozy4qCH_"
      }
    },
    {
      "cell_type": "code",
      "source": [
        "#srednja vrijednost, medijan, mod\n",
        "df.describe()\n",
        "\n",
        "income_mean = df['IncomePerCap'].mean()\n",
        "income_median = df['IncomePerCap'].median()\n",
        "\n",
        "print(f\"U prosjeku stanovnici SAD-a zarađuju {income_mean} dolara. Medijalna plaća je {income_median}\")"
      ],
      "metadata": {
        "id": "igEfXmYsqRKQ",
        "colab": {
          "base_uri": "https://localhost:8080/"
        },
        "outputId": "8aa5c39a-7733-49bf-d405-872ed328f950"
      },
      "execution_count": null,
      "outputs": [
        {
          "output_type": "stream",
          "name": "stdout",
          "text": [
            "U prosjeku stanovnici SAD-a zarađuju 23981.771739130436 dolara. Medijalna plaća je 23460.0\n"
          ]
        }
      ]
    },
    {
      "cell_type": "markdown",
      "source": [
        "Pokušajte steći dublji uvid u prihod po stanovniku. Može li se prepoznati distribucija iz koje potječi ovi podaci? Potkrijepite Vaš zaključak grafičkom metodom i rezultatima statističkog testa."
      ],
      "metadata": {
        "id": "bDBpBq0LrCh2"
      }
    },
    {
      "cell_type": "code",
      "source": [
        "plt.hist(df['IncomePerCap'], bins=40)\n",
        "diagnostic.kstest_normal(df['IncomePerCap'], dist='norm')\n",
        "diagnostic.kstest_normal(df['IncomePerCap'], dist='exp')\n",
        "print(\"Ne može se prepoznati distribucija jer je p parametar manji od 0.5 i za eksponencijalnu i za normalnu distribuciju.\")"
      ],
      "metadata": {
        "id": "bKMFtGPsrYtn",
        "colab": {
          "base_uri": "https://localhost:8080/",
          "height": 285
        },
        "outputId": "7ecdefc2-ff4a-48f9-9bd4-d7bc25bf0e21"
      },
      "execution_count": 31,
      "outputs": [
        {
          "output_type": "stream",
          "name": "stdout",
          "text": [
            "Ne može se prepoznati distribucija jer je p parametar manji od 0.5 i za eksponencijalnu i za normalnu distribuciju.\n"
          ]
        },
        {
          "output_type": "display_data",
          "data": {
            "text/plain": [
              "<Figure size 432x288 with 1 Axes>"
            ],
            "image/png": "[encoded data removed]"
          },
          "metadata": {
            "needs_background": "light"
          }
        }
      ]
    },
    {
      "cell_type": "markdown",
      "source": [
        "Izračunajte osnovne mjere u okviru deskriptivne statistike za broj stanovnika države (*TotalPop*) te prokomentirajte dobivene rezultate."
      ],
      "metadata": {
        "id": "1BUpMvk5sECu"
      }
    },
    {
      "cell_type": "code",
      "source": [
        "df['TotalPop'].describe()\n"
      ],
      "metadata": {
        "id": "i4wmEVvcsMKt",
        "colab": {
          "base_uri": "https://localhost:8080/"
        },
        "outputId": "c0059084-1aaf-4659-86c5-0b1e70f3b468"
      },
      "execution_count": 22,
      "outputs": [
        {
          "output_type": "execute_result",
          "data": {
            "text/plain": [
              "count    3.220000e+03\n",
              "mean     9.940935e+04\n",
              "std      3.193055e+05\n",
              "min      8.500000e+01\n",
              "25%      1.121800e+04\n",
              "50%      2.603500e+04\n",
              "75%      6.643050e+04\n",
              "max      1.003839e+07\n",
              "Name: TotalPop, dtype: float64"
            ]
          },
          "metadata": {},
          "execution_count": 22
        }
      ]
    },
    {
      "cell_type": "markdown",
      "source": [
        "Pokušajte steći dublji uvid u broj stanovnika. Može li se prepoznati distribucija iz koje potječu ovi podaci? Potkrijepite Vaš zaključak grafičkom metodom i rezultatima statističkog testa."
      ],
      "metadata": {
        "id": "8TLicrlzsQs-"
      }
    },
    {
      "cell_type": "code",
      "source": [
        "plt.hist(df['TotalPop'], bins=40)\n",
        "diagnostic.kstest_normal(df['TotalPop'], dist='norm')\n",
        "diagnostic.kstest_normal(df['TotalPop'], dist='exp')\n",
        "print(\"Ne može se prepoznati distribucija jer je p parametar manji od 0.5 i za eksponencijalnu i za normalnu distribuciju.\")"
      ],
      "metadata": {
        "id": "QmEByV10sZrW",
        "colab": {
          "base_uri": "https://localhost:8080/",
          "height": 295
        },
        "outputId": "7dc41da0-7bad-4342-cd26-182d1ae3630a"
      },
      "execution_count": 32,
      "outputs": [
        {
          "output_type": "execute_result",
          "data": {
            "text/plain": [
              "(0.29877233230219885, 0.0009999999999998899)"
            ]
          },
          "metadata": {},
          "execution_count": 32
        },
        {
          "output_type": "display_data",
          "data": {
            "text/plain": [
              "<Figure size 432x288 with 1 Axes>"
            ],
            "image/png": "[encoded data removed]"
          },
          "metadata": {
            "needs_background": "light"
          }
        }
      ]
    },
    {
      "cell_type": "markdown",
      "source": [
        "## **Zadatak 2: Ispitivanje odnosa između dvije varijable**\n",
        "\n",
        "Pokušajte odgovoriti na pitanje je li dohodak po stanovniku države u korelaciji s nezaposlenošću. Ispitajte i linearnu i monotonu korelaciju."
      ],
      "metadata": {
        "id": "6wA3OPzdtxzV"
      }
    },
    {
      "cell_type": "code",
      "source": [
        "plt.scatter(df['IncomePerCap'],df['Unemployment'])\n",
        "#linear\n",
        "stats.pearsonr(df['IncomePerCap'], df['Unemployment'])\n",
        "print(\"koeficijent korelacije između varijabli je -0.55. Linearna korelacija je negativna što znači da kada se jedna varijabla povecava druga se smanjuje.\")\n",
        "#monotonic\n",
        "stats.spearmanr(df['IncomePerCap'], df['Unemployment'])\n",
        "print(\"koeficijent korelacije između varijabli je -0.56. Monotona korelacija je negativna što znači da kada se jedna varijabla povecava druga se smanjuje.\")\n"
      ],
      "metadata": {
        "id": "uRSuDK21uQ9l",
        "colab": {
          "base_uri": "https://localhost:8080/",
          "height": 320
        },
        "outputId": "e4d1a4b1-194f-4b82-e639-ef430a266e4f"
      },
      "execution_count": 38,
      "outputs": [
        {
          "output_type": "stream",
          "name": "stdout",
          "text": [
            "koeficijent korelacije između varijabli je -0.55. Linearna korelacija je negativna što znači da kada se jedna varijabla povecava druga se smanjuje.\n"
          ]
        },
        {
          "output_type": "execute_result",
          "data": {
            "text/plain": [
              "SignificanceResult(statistic=-0.5610346008485645, pvalue=1.861766816019713e-266)"
            ]
          },
          "metadata": {},
          "execution_count": 38
        },
        {
          "output_type": "display_data",
          "data": {
            "text/plain": [
              "<Figure size 432x288 with 1 Axes>"
            ],
            "image/png": "[encoded data removed]"
          },
          "metadata": {
            "needs_background": "light"
          }
        }
      ]
    },
    {
      "cell_type": "markdown",
      "source": [
        "## **Zadatak 3: Testiranje hipoteza**\n",
        "\n",
        "Zarađuju li stanovnici države New York više od stanovnika države Kalifornija? Pokušajte dati odgovor na ovo pitanje pomoću deskriptivne statistike."
      ],
      "metadata": {
        "id": "r8KFGmUYuSiV"
      }
    },
    {
      "cell_type": "code",
      "source": [
        "newYorkIncome = df[df['State'] == 'New York']['IncomePerCap'].mean()\n",
        "californiaIncome = df[df['State'] == 'California']['IncomePerCap'].mean()\n",
        "print(f\"New York average income = {newYorkIncome}, California avearege income = {californiaIncome}\")\n",
        "print(\"U prosjeku više zarađuju stanovnici New Yorka.\")"
      ],
      "metadata": {
        "id": "9Zr9QSFLunEn",
        "colab": {
          "base_uri": "https://localhost:8080/"
        },
        "outputId": "93bff4f6-0a59-499a-b499-cfdd42d15158"
      },
      "execution_count": 43,
      "outputs": [
        {
          "output_type": "stream",
          "name": "stdout",
          "text": [
            "New York average income = 28189.75806451613, California avearege income = 27902.603448275862\n"
          ]
        }
      ]
    },
    {
      "cell_type": "markdown",
      "source": [
        "Kako bi potkrijepili dobivene zaključke, provedite testiranje hipoteza. Neka nulta hipoteza pretpostavlja da nema statistički značajne razlike u dohotku stanovnika ovih država. Testirajte hipotezu pomoću dvostranog t-testa (*two-sided t-test*). Prokomentirajte dobivenu $p$-vrijednost te donesite zaključak."
      ],
      "metadata": {
        "id": "OLt7u6QKuoZm"
      }
    },
    {
      "cell_type": "code",
      "source": [
        "ny = df[df['State'] == 'New York']['IncomePerCap']\n",
        "cf = df[df['State'] == 'California']['IncomePerCap']\n",
        "stats.ttest_ind(a=ny, b = cf, equal_var = True)\n",
        "print(\"Nulta hipoteza je prihvećena jer iz rezultata testa možemo zaključiti da nema statistički značajne razlike u dohotku stanovnika ovih država.\")"
      ],
      "metadata": {
        "id": "XW2oCWvBvGqe",
        "colab": {
          "base_uri": "https://localhost:8080/"
        },
        "outputId": "d1c51f42-581e-46f8-d985-81a5b2094494"
      },
      "execution_count": 64,
      "outputs": [
        {
          "output_type": "stream",
          "name": "stdout",
          "text": [
            "Nulta hipoteza je prihavećena jer iz rezultata testa možemo zaključiti da nema statistički značajne razlike u dohotku stanovnika ovih država.\n"
          ]
        }
      ]
    },
    {
      "cell_type": "markdown",
      "source": [
        "## **Zadatak 4: Kvantificiranje nesigurnosti**\n",
        "\n",
        "Ponovno promotrimo pitanje zarađuju li stanovnici države New York više od stanovnika države Kalifornija. Ovaj put pokušajte odgovoriti na pitanje pomoću intervala pouzdanosti s razinom pouzdanosti od 95%. Uz izračun, vizualizirajte intervale pouzdanosti na stupčastim dijagramima. \n",
        "Pomoć: provjerite preklapaju li se intervali za ove države."
      ],
      "metadata": {
        "id": "abB88OPUvJXN"
      }
    },
    {
      "cell_type": "code",
      "source": [
        "nyReliability = stats.t.interval(confidence=0.95, df=len(ny)-1, loc=np.mean(ny), scale=stats.sem(ny))\n",
        "cfReliability = stats.t.interval(confidence=0.95, df=len(cf)-1, loc=np.mean(cf), scale=stats.sem(cf))\n",
        "print(nyReliability)\n",
        "print(cfReliability)\n",
        "sns.barplot(df[(df['State'] == 'New York') | (df['State'] == 'California')], x='State', y=\"IncomePerCap\")\n",
        "print(\"Intervali se preklapaju.\")"
      ],
      "metadata": {
        "id": "1cvoBHOlv8Rd",
        "colab": {
          "base_uri": "https://localhost:8080/",
          "height": 331
        },
        "outputId": "246b7508-6ec1-499a-93de-14e1aec18799"
      },
      "execution_count": 66,
      "outputs": [
        {
          "output_type": "stream",
          "name": "stdout",
          "text": [
            "(26362.11277119949, 30017.40335783277)\n",
            "(25622.335110090782, 30182.871786460943)\n",
            "Intervali se preklapaju.\n"
          ]
        },
        {
          "output_type": "display_data",
          "data": {
            "text/plain": [
              "<Figure size 432x288 with 1 Axes>"
            ],
            "image/png": "[encoded data removed]"
          },
          "metadata": {
            "needs_background": "light"
          }
        }
      ]
    },
    {
      "cell_type": "markdown",
      "source": [
        "## **Zadatak 5: Jačanje gospodarstva poticanjem samozapošljavanja**\n",
        "\n",
        "Pretpostavimo da je najveći prioritet lokalne uprave u 2018. godini povećanje dohotka po glavi stanovnika. U tu svrhu, dužnosnici planiraju usvojiti strategiju poticanja samozapošljavanja kroz niz kampanja, obrazovnih programa i namjenskih sredstava.\n",
        "\n",
        "Budući da je neetično i nemoguće u ovom okruženju provoditi kontrolirani eksperiment koji uključuje građane (primjerice, otpustiti zaposlenike i prisiliti ih na samozapošljavanje), dužnosnici su od Vas zatražili da utvrdite učinak samozapošljavanja na gospodarstva, oslanjajući se na podatke iz danog skupa podataka."
      ],
      "metadata": {
        "id": "YYrfZvxCv-BW"
      }
    },
    {
      "cell_type": "markdown",
      "source": [
        "Koristeći odgovarajuće grafičke i statističke metode, odredite i kvantificirajte vezu između postotka samozaposlenih građana (*SelfEmployed*) i dohotka po glavi stanovnika u svih 3212 država SAD-a. Zarađuju li građani u državama koje imaju veći postotak samozaposlenih više po glavi stanovnika?"
      ],
      "metadata": {
        "id": "H-_2YLcBwiMC"
      }
    },
    {
      "cell_type": "code",
      "source": [],
      "metadata": {
        "id": "ASwCyjF0wyW-"
      },
      "execution_count": null,
      "outputs": []
    },
    {
      "cell_type": "markdown",
      "source": [
        "Pilot program ove strategije zahvatit će sve okruge unutar ograničenog skupa od tri države. Skup A uključuje Wisconsin, Tennessee i Minnesotu. Kvantificirajte ovisnost dohotka po glavi stanovnika o stopama samozapošljavanja u skupu A."
      ],
      "metadata": {
        "id": "E-daFr46w5YV"
      }
    },
    {
      "cell_type": "code",
      "source": [
        "# Mjesto za Vaš kod"
      ],
      "metadata": {
        "id": "V2WZtaJMxLWm"
      },
      "execution_count": null,
      "outputs": []
    },
    {
      "cell_type": "markdown",
      "source": [
        "U kojoj je državi unutar skupa A opaženi učinak samozapošljavanja na dohodak po glavi stanovnika najjači? Je li ovaj učinak pozitivan ili negativan?"
      ],
      "metadata": {
        "id": "D6DK3LO-xOJu"
      }
    },
    {
      "cell_type": "code",
      "source": [
        "# Mjesto za Vaš kod"
      ],
      "metadata": {
        "id": "cJun3ZYjxVpW"
      },
      "execution_count": null,
      "outputs": []
    },
    {
      "cell_type": "markdown",
      "source": [
        "Skup B uključuje države New Jersey, Kansas i Rhode Island. Ponovite analizu iz prijašnjih koraka, ali sada za skup B. U kojem biste od dva skupa A i B preporučili poticanje samozapošljavanja? Objasnite svoje razmišljanje. Što zamjećujete kad u oba skupa promatrate korelaciju unutar svake pojedine države, a što kada promatrate korelaciju za države u cjelini?"
      ],
      "metadata": {
        "id": "c7O5Ksd5xYqu"
      }
    },
    {
      "cell_type": "code",
      "source": [
        "# Mjesto za Vaš kod"
      ],
      "metadata": {
        "id": "Q5BesEmWy-_1"
      },
      "execution_count": null,
      "outputs": []
    }
  ]
}