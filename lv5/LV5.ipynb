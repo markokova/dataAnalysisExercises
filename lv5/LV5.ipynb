{
  "nbformat": 4,
  "nbformat_minor": 0,
  "metadata": {
    "colab": {
      "provenance": [],
      "private_outputs": true
    },
    "kernelspec": {
      "name": "python3",
      "display_name": "Python 3"
    },
    "language_info": {
      "name": "python"
    },
    "gpuClass": "standard"
  },
  "cells": [
    {
      "cell_type": "markdown",
      "source": [
        "# **Laboratorijska vježba 5**: Strojno učenje: Regresija\n",
        "\n",
        "\n",
        "> Analiza podataka četvrti je korak u uobičajenom slijedu koraka koje provodi podatkovni znanstvenik. Ova faza je ključna faza u znanosti o podacima, a uključuje izvođenje različitih tehnika za analizu podataka. U sklopu ovog koraka provodi se eksploratorna/potvrdna, prediktivna, regresijska ili kvalitativna analiza. \n",
        "\n",
        "> U ovoj laboratorijskoj vježbi upoznat ćemo se s jednim aspektom analize podataka koji se naziva prediktivna analiza. U sklopu ove analize uobičajeno se primjenjuju algoritmi strojnog učenja. U ovoj laboratorijskoj vježbi proučit ćemo algoritme strojnog učenja za regresiju. U tu svrhu koristit ćemo biblioteku scikit-learn. \n",
        "---"
      ],
      "metadata": {
        "id": "qoc9djyJlo43"
      }
    },
    {
      "cell_type": "markdown",
      "source": [
        "# **Strojno učenje**\n",
        "\n",
        "Strojno učenje bavi se proučavanjem i oblikovanjem računalnih algoritama koji grade modele problema iz različitih domena na temelju empirijskih podataka. Ti se modeli koriste za obavljanje raznih zadataka, kao što su predviđanje, donošenje odluka te raspoznavanje uzoraka. Osnovni pristupi strojnom učenju jesu **nadzirano** i **nenadzirano učenje**. Najčešći tipovi problema u domeni nadziranog učenja jesu **regresijski** i **klasifikacijski** problemi. Kod nadziranog strojnog učenja, skup podataka sadrži oznake primjeraka koje mogu biti diskretne (klasifikacija) ili kontinuirane (regresija). \n",
        "\n",
        "## **Primjena algoritma strojnog učenja**\n",
        "\n",
        "Algoritme strojnog učenja tipično primjenjujemo kroz sljedeće korake:\n",
        "\n",
        "1.  Prikupljanje i predobrada podataka\n",
        "2.  Ekstrakcija značajki - na ulaz algoritma strojnog učenja dovode se podaci u obliku skupa primjeraka (ili instanci). Primjerci su u suštini reci u skupu podataka. Svaki je primjerak opisan vektorom značajki koje su ključne karakteristike tog primjerka. U ovom koraku potrebno je osmisliti na koji način prikazati skup značajki te implementirati postupke ekstrakcije značajki.\n",
        "3.  Redukcija dimenzionalnosti - ovaj korak nije neophodan, ali može pomoći ukloniti redundantne, nevažne i štetne značajke. Uklanjanje takvih značajki u pravilu doprinosi performansama algoritma strojnog učenja.\n",
        "4.  Odabir modela (engl. *model selection*) - ovo je važan korak u kojem se odabire prikladan algoritam strojnog učenja s \"optimalnim\" postavkama parametara za dani problem.\n",
        "5.  Treniranje modela - algoritam strojnog učenja trenira se nad skupom podataka, odnosno uči način preslikavanja ulaznih u izlazne podatke. Može trajati od nekoliko sekundi do nekoliko tjedana.\n",
        "6.  Vrednovanje modela - ovisno o tipu problema koji promatramo (regresija, klasifikacija, grupiranje,...), postoje razne mjere za vrednovanje performansi treniranog modela.\n",
        "7.  Dijagnostika i ispravljanje - ako model ne radi na zadovoljavajućoj razini, potrebno ga je doraditi i poboljšati mu performanse.  \n",
        "8.  Instalacija - model se u konačnici može ugraditi u produkciju gdje će odrađivati predviđeni posao.\n",
        "\n",
        "## **Osnovna terminologija**\n",
        "\n",
        "Na ulazu algoritma strojnog učenja nalazi se **primjerak** (engl. *instance*). Primjerak jest jedna podatkovna točka, odnosno jedan redak u skupu podataka. Svaki primjerak predstavljen je vektorom značajki. Značajka (engl. *feature*) jest (bitna) karakteristika primjerka, a ponekad se naziva i atributom. Formalno ovaj odnos možemo zapisati kao:\n",
        "\n",
        "$$ \\textbf{x} = (x_{1}, x_{2},\\dots,x_{d}) , $$\n",
        "\n",
        "gdje su $x_i$ pojedine značajke, a $d$ broj značajki, odnosno dimenzionalnost problema. Primjerci se nalaze u prostoru primjeraka, odnosno ulaznom prostoru $\\mathcal{X}$ koji je $d$-dimenzionalan.\n",
        "\n",
        "Kod nadziranog strojnog učenja, svaki primjerak ima svoju oznaku (engl. *label*). Ona predstavlja oznaku klase (kod klasifikacije) ili ciljnu brojčanu vrijednost (kod regresije). Oznaku primjerka označit ćemo s $y$, a skup svih mogućih oznaka s $\\mathcal{Y}$. Za regresiju tipičan slučaj jest da vrijedi $\\mathcal{Y}=\\mathbb{R}$. \n",
        "\n",
        "Konačno, skup svih označenih primjeraka označit ćemo s $\\mathcal{D}$:\n",
        "\n",
        "$$ \\mathcal{D} = \\{(\\textbf{x}^{(i)}, y^{(i)})\\}_{i=1}^{N} \\subset \\mathcal{X} \\times \\mathcal{Y} . $$ \n",
        "\n",
        "Skup $\\mathcal{D}$ može se prikazati matricama:\n",
        "\n",
        "![image.png](data:image/png;base64,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)\n",
        "\n",
        "\n",
        "### **Hipoteza**\n",
        "\n",
        "Svrha nadziranog strojnog učenja jest naučiti funkciju koja primjercima iz $\\mathcal{X}$ dodjeljuje oznake iz $\\mathcal{Y}$. Drugim riječima, svrha je naučiti preslikavanje iz $\\mathcal{X}$ u $\\mathcal{Y}$. Ta funkcija se naziva hipoteza:\n",
        "\n",
        "$$ h: \\mathcal{X} → \\mathcal{Y} . $$\n",
        "\n",
        "Općenito, mi ne znamo unaprijed koja ja točna funkcija $h$. Kad bismo to znali, ne bi nam trebalo strojno učenje. Međutim, moramo otprilike reći koji su kandidati za hipotezu. To radimo odabirom algoritma strojnog učenja i postavljanjem njegovih hiperparametara. Ovaj korak se kratko naziva korakom treniranja modela.\n",
        "\n",
        "### **Treniranje modela**\n",
        "\n",
        "Model predstavlja skup hipoteza koje su parametrizirane s vektorom parametara $\\Theta$, odnosno:\n",
        "\n",
        "$$ \\mathcal{H} = \\{h(\\textbf{x};\\Theta)\\}_{Θ} . $$\n",
        "\n",
        "To znači da svaki vektor $\\Theta$ odgovara jednoj funkciji iz skupa $\\mathcal{H}$. Prema tome, model jest skup funkcija parametriziranih s $\\Theta$. **Treniranje (ili učenje)** modela nije ništa drugo nego **pretraživanje** skupa hipoteza $\\mathcal{H}$ u nastojanju da se nađe najbolja hipoteza $h \\in \\mathcal{H}$. **Da bismo mogli naći najbolju hipotezu, moramo znati kako vrednovati kvalitetu hipoteze**. U tu svrhu, razvijene su brojne mjere za vrednovanje performansi algoritma strojnog učenja. One su specifične za svaki tip problema strojnog učenja. Nadalje, budući da je treniranje modela zapravo pretraživanje skupa hipoteza, može se promatrati kao **optimizacijski problem**. Stoga su za svaki algoritam strojnog učenja razvijene razne optimizacijske tehike za njegovo treniranje.  \n",
        "\n",
        "## **Tri osnovne komponente algoritma strojnog učenja**\n",
        "\n",
        "Prema navedenom, možemo uočiti da je svaki algoritam strojnog učenja moguće opisati u smislu njegove tri glavne komponente:\n",
        "\n",
        "1.  Model - skup hipoteza parametriziranih vektorom parametara $\\Theta$.\n",
        "2.  Funkcija gubitka (engl. *loss function*) - mjera performansi koja govori koliko je kvalitetna hipoteza. Ona predstavlja kriterij po kojem se vodi treniranje modela.\n",
        "3.  Optimizacijski postupak - postupak kojim unutar modela nalazimo hipotezu koja minimizira funkciju gubitka za sve primjerke u skupu podataka. Pojednostavljeno rečeno, ovaj postupak predstavlja način treniranja modela. \n",
        "\n"
      ],
      "metadata": {
        "id": "vdklV_qqm_eq"
      }
    },
    {
      "cell_type": "markdown",
      "source": [
        "## **Odabir modela**\n",
        "\n",
        "U idealnom slučaju, u odabranom modelu (skupu hipoteza) postoji hipoteza za koju je zbroj svih pogrešaka (funkcija gubitka) za sve primjerke u skupu podataka jednaka 0. No, lako je moguće da takva hipoteza ne postoji. Tada kažemo da model nije dovoljne **složenosti** za promatrani problem. Intuitivno se nameće rješenje - zašto odmah ne odabrati složeniji model? \n",
        "\n",
        "Međutim, u stvarnim podacima uvijek postoji šum (engl. *noise*), odnosno neželjena anomalija u podacima zbog koje dolazi do odstupanja opaženih vrijednosti od pravih vrijednosti. Mogući razlozi šuma u podacima jesu nepreciznost pri mjerenju, pogreške u označavanju, postojanje skrivenih značajki koje nismo uključili, nejasna granica između klasa i sl. Ako šum postoji, jednostavan model ne može pronaći hipotezu koja ima grešku 0. S druge strane, ako je model previše složen, on će se previše prilagoditi podacima te će se naučiti i šum. Za takav model kažemo da će **loše generalizirati**. No, generalizacija je ključno svojstvo modela strojnog učenja - želimo da radi dobro na primjercima koje nije vidio tijekom treninga. \n",
        "\n",
        "Situaciju kad za neki problem koristimo prejednostavan model zovemo **podnaučenost**. Obratno, situaciju u kojoj koristimo presložen model nazivamo **prenaučenost**. Općenito, idealan model bio bi onaj koji nije niti prejednostavan niti presložen. "
      ],
      "metadata": {
        "id": "kkkFxiEBNNlc"
      }
    },
    {
      "cell_type": "code",
      "source": [
        "import numpy as np\n",
        "import matplotlib.pyplot as plt\n",
        "\n",
        "x = np.array([0.1, 0.2, 0.25, 0.3, 0.45, 0.45, 0.5, 0.5, 0.55, 0.6, 0.7, 0.8, 0.85, 0.9, 0.95])\n",
        "y = np.array([0.1, 0.5, 0.3, 0.45, 0.6, 0.7, 0.88, 0.8, 1, 0.88, 0.65, 0.44, 0.62, 0.99, 0.4])\n",
        "\n",
        "#plt.scatter(x,y)\n",
        "\n",
        "poly1 = np.poly1d(np.polyfit(x, y, 1))(x)\n",
        "poly3 = np.poly1d(np.polyfit(x, y, 3))(x)\n",
        "poly8 = np.poly1d(np.polyfit(x, y, 8))(x)\n",
        "\n",
        "fig, axes = plt.subplots(1,3)\n",
        "\n",
        "axes[0].scatter(x,y)\n",
        "axes[1].scatter(x,y)\n",
        "axes[2].scatter(x,y)\n",
        "axes[0].plot(x, poly1, c='b', label='polinom prvog stupnja')\n",
        "axes[1].plot(x, np.array(poly3), c='g', label='polinom treceg stupnja')\n",
        "axes[2].plot(x, np.array(poly8), c='r', label='polinom osmog stupnja')"
      ],
      "metadata": {
        "id": "d3r4GHm5NVkj"
      },
      "execution_count": null,
      "outputs": []
    },
    {
      "cell_type": "markdown",
      "source": [
        "Odabir modela čija složenost odgovara pravoj složenosti problema koji nastojimo naučiti izvodi se tijekom koraka **odabira modela**. \n",
        "\n",
        "Dakle, potrebno je odabrati optimalan model $\\mathcal{H}$ unutar neke familije modela:\n",
        "\n",
        "$$ \\{\\mathcal{H}_1, \\mathcal{H}_2, \\dots, \\mathcal{H}_k\\} . $$\n",
        "\n",
        "Primjerice, kod regresije možemo birati stupanj polinoma: počevši od pravca preko parabole pa sve do neke visoko nelinearne krivulje. Složenost modela predstavljena je **hiperparametrima modela**. Odgovornost postavljanja hiperparametara modela obično je na podatkovnom analitičaru. Obično se provodi treniranjem više različitih modela (tj. odabirom raznih vrijednosti hiperparametara) te usporedbom njihovih performansi. Pri tome, ključno je prethodno napraviti podjelu skupa podataka kako bi se uspoređivale sposobnosti generalizacije ovih modela. \n",
        "\n",
        "### **Podjela skupa podataka**\n",
        "\n",
        "Kako bi se procijenila sposobnost generalizacije algoritma strojnog učenja, izvedba treniranog modela obično se testira na skupu za testiranje (engl. *test set*) koji čine primjerci iz skupa podataka izdvojeni prethodno treniranju modela. Najčešći postupci raspodjele skupa podataka za potrebe testiranja jesu postupak izdvajanja (engl. *holdout*) te postupak unakrsne provjere $k$ preklopa (engl. *k-fold cross-validation*). \n",
        "\n",
        "\n",
        "![image.png](data:image/png;base64,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)\n",
        "\n",
        "Postupak izdvajanja dijeli skup podataka na dva disjunktna podskupa, odnosno na skup za treniranje te na skup za testiranje. Postupak unakrsne provjere $k$ preklopa koristi se kad je veličina skupa za treniranje, dobivenog postupkom izdvajanja, nedostatna za treniranje učinkovitih modela. Stoga se skup podataka često dijeli na $k$ disjunktnih podskupova (preklopa), pri čemu se svaki od njih samo jednom koristi za testiranje, a $k-1$ puta za treniranje modela. Konačna kvaliteta modela izražava se kao aritmetička sredina njegovih vrednovanih izvedbi na svakom od $k$ preklopa korištenih za testiranje.  "
      ],
      "metadata": {
        "id": "ewYhGLRoPVff"
      }
    },
    {
      "cell_type": "markdown",
      "source": [
        "# **Regresija**\n",
        "\n",
        "U kontekstu strojnog učenja, regresija znači predviđanje numeričkih vrijednosti. \n",
        "\n",
        "## **Linearna regresija**\n",
        "\n",
        "Najpoznatiji algoritam strojnog učenja koji se koristi za potrebe regresije jest linearna regresija. Poznat je i oblik modela linearne regresije:\n",
        "\n",
        "$$ y = \\beta_0 + \\beta_1x_1 + \\beta_2x_2 + \\dots + \\beta_dx_d . $$\n",
        "\n",
        "Kod regresije, vektor parametara modela umjesto sa $\\Theta$ tipično označavamo sa $\\beta$. Za jednodimenzijski ulazni prostor ($d=1$), model će biti jednostavna linearna regresija koja se može vizualizirati pravcem. Za $d=2$, model opisuje ravninu u prostoru, a za $d>2$ hiperravninu. Uz model, osnovne komponente nekog algoritma strojnog učenja jesu funkcija gubitka te način optimizacije. Funkcija gubitka kod linearne regresije jest kvadratno odstupanje (kvadrat reziduala): \n",
        "\n",
        "$$ L(y, h(x)) = (y - h(x))^2 . $$\n",
        "\n",
        "Stoga, cilj je pronaći hipotezu koja minimizira sumu kvadratnih odstupanja, odnosno: \n",
        "\n",
        "$$ \\sum_{i=1}^N (y^{(i)} - h(x^{(i)}))^2, $$ \n",
        "\n",
        "uz malu preinaku radi kasnije matematičke jednostavnosti: \n",
        "\n",
        "$$ \\frac{1}{2}\\sum_{i=1}^N (y^{(i)} - h(x^{(i)}))^2 . $$\n",
        "\n",
        "Možemo ovdje napomenuti da se prosječna suma kvadratnih odstupanja (odnosno prosječna vrijednost kvadrata reziduala) još naziva i **srednjom kvadratnom greškom** (engl. *mean squared error, MSE*), a dobije se dijeljenjem sume kvadratnih odstupanja s brojem primjeraka u skupu podataka. Mjera MSE je korisna za usporedbu performansi različitih modela regresije. \n",
        "\n",
        "Treća komponenta algoritma regresije jest optimizacijski postupak koji traži hipotezu, odnosno parametre $\\beta$ koji minimiziraju pogrešku:\n",
        "\n",
        "$$(\\beta_0,\\dots,\\beta_1)^*  = \\text{argmin} \\frac{1}{2}\\sum_{i=1}^N (y^{(i)} - h(x^{(i)}))^2 . $$\n",
        "\n",
        "Kao što smo to objasnili u prethodnoj vježbi, optimalni koeficijenti $\\beta$ dobiju se rješavanjem $N$ linearnih jednadžbi s $d+1$ nepoznanica. Ovaj postupak naziva se **metodom najmanjih kvadrata** (engl. *ordinary least squares, OLS*). Rješenje ove jednadžbe je vektor \n",
        "\n",
        "$$ \\hat{\\beta} = (\\beta_0,\\dots,\\beta_1)^* = (X^TX)^{-1} X^TY . $$\n",
        "\n"
      ],
      "metadata": {
        "id": "iM-nptTIMTQ-"
      }
    },
    {
      "cell_type": "markdown",
      "source": [
        "Pretpostavimo, primjerice, da je pred nama problem predviđanja cijena nekretnina u gradu Osijeku. Za svaku nekretninu imamo niz značajki $\\textbf{x}$ koje ju opisuju te njezinu cijenu $y$ u EUR. Promotrimo za početak skup podataka koji sadrži samo jednu značajku $x_{1}$ koja predstavlja površinu nekretnine ($m^2$). "
      ],
      "metadata": {
        "id": "zzEPbZn6hzqR"
      }
    },
    {
      "cell_type": "code",
      "source": [
        "import pandas as pd\n",
        "import seaborn as sns\n",
        "df = pd.DataFrame({'Area (m^2)': [100, 50, 22, 442, 54, 100, 87, 35, 87, 34, 570, 366, 34, 76, 156], \n",
        "                   'Price (€)': [150, 100, 40, 1000, 120, 220, 160, 88, 125, 60, 2200, 999, 80, 150, 300]})\n",
        "\n",
        "df = df.sort_values('Area (m^2)')\n",
        "\n",
        "sns.lmplot(x='Area (m^2)', y='Price (€)', data=df)"
      ],
      "metadata": {
        "id": "-7USNSlwarbJ"
      },
      "execution_count": null,
      "outputs": []
    },
    {
      "cell_type": "markdown",
      "source": [
        "Pomoću biblioteke scikit-learn, možemo izvesti korake odabira, treniranja i vrednovanja modela. "
      ],
      "metadata": {
        "id": "-ogIwO3k3OLu"
      }
    },
    {
      "cell_type": "code",
      "source": [
        "from sklearn.model_selection import train_test_split\n",
        "from sklearn.linear_model import LinearRegression\n",
        "import numpy as np\n",
        "from sklearn.metrics import mean_squared_error\n",
        "\n",
        "X = df.iloc[:, :-1]\n",
        "y = df.iloc[:, -1]\n",
        "\n",
        "feature_cols = df.columns[:-1]\n",
        "\n",
        "X_train, X_test, y_train, y_test = train_test_split(X, y, test_size=0.3, random_state=42)\n",
        "\n",
        "sorted_inds = np.argsort(X_train['Area (m^2)'])\n",
        "X_train = X_train.iloc[sorted_inds]\n",
        "y_train = y_train.iloc[sorted_inds]\n",
        "\n",
        "sorted_inds = np.argsort(X_test['Area (m^2)'])\n",
        "X_test = X_test.iloc[sorted_inds]\n",
        "y_test = y_test.iloc[sorted_inds]\n",
        "\n",
        "model = LinearRegression().fit(X_train, y_train)\n",
        "\n",
        "for f in range(len(feature_cols)):\n",
        "    print(\"{0} * {1} + \".format(model.coef_[f], feature_cols[f]))\n",
        "print(model.intercept_)\n",
        "\n",
        "# Predviđene trening vrijednosti:\n",
        "y_train_predicted = model.predict(X_train)\n",
        "diff = np.abs(y_train - y_train_predicted)\n",
        "plt.scatter(X_train, y_train, c='g')\n",
        "plt.scatter(X_train, y_train_predicted, c='r')\n",
        "plt.plot(X_train, diff, label='|y-h(x)|')\n",
        "plt.xlabel('Area (m^2)')\n",
        "plt.ylabel('Price (€)')\n",
        "plt.legend()\n",
        "plt.show()\n",
        "\n",
        "print ('MSE na treningu: ', mean_squared_error(y_train, y_train_predicted))"
      ],
      "metadata": {
        "id": "XBmg63CF3ZtN"
      },
      "execution_count": null,
      "outputs": []
    },
    {
      "cell_type": "code",
      "source": [
        "# Predviđene testne vrijednosti:\n",
        "y_test_predicted = model.predict(X_test)\n",
        "\n",
        "diff = np.abs(y_test - y_test_predicted)\n",
        "plt.scatter(X_test, y_test, c='g')\n",
        "plt.scatter(X_test, y_test_predicted, c='r')\n",
        "plt.plot(X_test, diff, label='|y-h(x)|')\n",
        "plt.xlabel('Area (m^2)')\n",
        "plt.ylabel('Price (€)')\n",
        "plt.legend()\n",
        "plt.show()\n",
        "\n",
        "print('MSE na testu:', mean_squared_error(y_test, y_test_predicted))"
      ],
      "metadata": {
        "id": "7_27iMW8A61I"
      },
      "execution_count": null,
      "outputs": []
    },
    {
      "cell_type": "markdown",
      "source": [
        "## **Nelinearna regresija**\n",
        "\n",
        "Često je u praksi veza izmedu nezavisnih varijabli i zavisne varijable nelinearna. U prethodnom primjeru promatrali smo vezu između cijene nekretnine i površine, za koju \"znamo\" da je u pravilu linearna (proporcionalna). No, kad bi u skup podataka uvrstili neku drugu značajku (primjerice udaljenost od centra), za vezu između nje i izlazne varijable potencijalno ne bi vrijedilo da je linearna. Da bismo modelirali nelinearne ovisnosti, treba nam **nelinearan model**. Od linearnog modela regresije, nelinearan model možemo dobiti primjenom raznih transformacija nad značajkama ili izlaznom varijablom. O ovim transformacijama smo pričali i u prethodnoj laboratorijskoj vježbi (prisjetimo se logaritamske transformacije te interakcijskih članova). Tako za promatrani model predviđanja cijena nekretnina možemo napraviti nelinaran model:\n",
        "\n",
        "$$ y = \\beta_0 + \\beta_1x_1 + \\beta_2x_1^2 , $$\n",
        "\n",
        "gdje je $x_1$ površina nekretnine. Ovdje smo nelinearnost uveli ubacivanjem kvadrata nad značajkom $x_1$, no moguće je primijeniti i bilo koju drugu matematičku funkciju nad značajkom. Moguće je primijetiti da je ovaj model složeniji od prethodnog modela jer sadrži i nelinearne hipoteze, a uključuje i sve hipoteze koje je uključivao i raniji model (ako je $\\beta_2=0$). Primijetimo također da ta povećana složenost dolazi s cijenom: model ima jedan više parametar od prethodnog modela što povećava njegovu složenost. Povećanjem složenosti povećavamo opasnost od toga da je naš model presložen, odnosno prenaučen. Takav model može imati slabu sposobnost generalizacije nad neviđenim podacima. No, lako je usporediti je li došlo do prenaučenosti ako usporedimo performanse složenijeg i jednostavnijeg modela na skupu podataka za testiranje.\n",
        "\n"
      ],
      "metadata": {
        "id": "zIWijxJ5jmGJ"
      }
    },
    {
      "cell_type": "code",
      "source": [
        "df['Area_squared'] = df['Area (m^2)'] * df['Area (m^2)']\n",
        "df = df[['Area (m^2)', 'Area_squared', 'Price (€)']]\n",
        "\n",
        "X = df.iloc[:, :-1]\n",
        "y = df.iloc[:, -1]\n",
        "\n",
        "feature_cols = df.columns[:-1]\n",
        "\n",
        "X_train, X_test, y_train, y_test = train_test_split(X, y, test_size=0.3, random_state=42)\n",
        "\n",
        "sorted_inds = np.argsort(X_train['Area (m^2)'])\n",
        "X_train = X_train.iloc[sorted_inds]\n",
        "y_train = y_train.iloc[sorted_inds]\n",
        "\n",
        "sorted_inds = np.argsort(X_test['Area (m^2)'])\n",
        "X_test = X_test.iloc[sorted_inds]\n",
        "y_test = y_test.iloc[sorted_inds]\n",
        "\n",
        "\n",
        "model = LinearRegression().fit(X_train, y_train)\n",
        "\n",
        "for f in range(len(feature_cols)):\n",
        "    print(\"{0} * {1} + \".format(model.coef_[f], feature_cols[f]))\n",
        "print(model.intercept_)\n",
        "\n",
        "# Predviđene trening vrijednosti:\n",
        "y_train_predicted = model.predict(X_train)\n",
        "\n",
        "diff = np.abs(y_train - y_train_predicted)\n",
        "plt.scatter(X_train.iloc[:,:-1], y_train, c='g')\n",
        "plt.scatter(X_train.iloc[:,:-1], y_train_predicted, c='r')\n",
        "plt.plot(X_train.iloc[:,:-1], diff, label='|y-h(x)|')\n",
        "plt.xlabel('Area (m^2)')\n",
        "plt.ylabel('Price (€)')\n",
        "plt.legend()\n",
        "plt.show()\n",
        "\n",
        "print('MSE na treningu:', mean_squared_error(y_train, y_train_predicted))"
      ],
      "metadata": {
        "id": "BAmpw1xMEUuT"
      },
      "execution_count": null,
      "outputs": []
    },
    {
      "cell_type": "code",
      "source": [
        "# Predviđene testne vrijednosti:\n",
        "y_test_predicted = model.predict(X_test)\n",
        "\n",
        "diff = np.abs(y_test - y_test_predicted)\n",
        "plt.scatter(X_test.iloc[:,:-1], y_test, c='g')\n",
        "plt.scatter(X_test.iloc[:,:-1], y_test_predicted, c='r')\n",
        "plt.plot(X_test.iloc[:,:-1], diff, label='|y-h(x)|')\n",
        "plt.xlabel('Area (m^2)')\n",
        "plt.ylabel('Price (€)')\n",
        "plt.legend()\n",
        "plt.show()\n",
        "\n",
        "print('MSE na testu:', mean_squared_error(y_test, y_test_predicted))"
      ],
      "metadata": {
        "id": "FrVWxswZFRjR"
      },
      "execution_count": null,
      "outputs": []
    },
    {
      "cell_type": "markdown",
      "source": [
        "Korištenje polinoma drugog stupnja samo je jedan način, no ne i jedini, kako dobiti nelinearan model. Veću nelinearnost možemo ostvariti povećanjem stupnja polinoma. Također, dodavanje interakcijskih članova čini model nelinearnim. Nadalje, nelinearnost se može ostvariti i drugim funkcijama koje nisu polinomi. "
      ],
      "metadata": {
        "id": "tp8Rk3J3j29K"
      }
    },
    {
      "cell_type": "markdown",
      "source": [
        "### **Preslikavanje u prostor značajki**\n",
        "\n",
        "Premda kažemo da su gornji modeli nelinearni, u njima je izlazna varijabla i dalje predstavljena kao linearna kombinacija značajki. Nelinearnost tog modela zapravo se očituje u nelinearnosti značajki, odnosno nad značajkama se provode razne nelinearne transformacije. Stoga, takvi modeli se i dalje mogu definirati pomoću modela linearne regresije, odnosno pomoću LinearRegression klase iz biblioteke scikit-learn. Samo se prethodno definiranju modela nad značajkama provedu nelinearne transformacije. \n",
        "\n",
        "Ako u skupu podataka već imamo značajke koje po svojoj prirodi nisu linearne (primjerice, vrijednosti slijede eksponencijalnu distribuciju), nad njima također možemo provesti odgovarajuću transformaciju koja će ih pokušati dovesti u linearni oblik. Ovaj postupak preslikavanja zove se **preslikavanje u prostor značajki** (engl. *feature mapping*). Prikladnim preslikavanjem iz ulaznog prostora u prostor značajki možemo ostvariti da primjeri, koji u ulaznom prostoru nisu bili linearno odvojivi, to budu u prostoru značajki. Stoga, umjesto da u ulaznom prostoru pokušavamo naći nelinearnu hipotezu, mi ćemo primjerke nelinarnim preslikavanjem dovesti u prostor značajki veće dimenzije i tamo ih onda odvojiti linearnom hipotezom. \n",
        "\n",
        "Promotrimo ponovno problem predviđanja cijena nekretnina na temelju površine."
      ],
      "metadata": {
        "id": "AspQFn2ljzLT"
      }
    },
    {
      "cell_type": "code",
      "source": [
        "import pandas as pd\n",
        "import seaborn as sns\n",
        "from statsmodels.stats import diagnostic\n",
        "\n",
        "df = pd.DataFrame({'Area (m^2)': [100, 50, 22, 442, 54, 100, 87, 35, 87, 34, 570, 366, 34, 76, 156], \n",
        "                   'Price (€)': [150, 100, 40, 1000, 120, 220, 160, 88, 125, 60, 2200, 999, 80, 150, 300]})\n",
        "\n",
        "df = df.sort_values('Area (m^2)')\n",
        "\n",
        "sns.lmplot(x='Area (m^2)', y='Price (€)', data=df)"
      ],
      "metadata": {
        "id": "cJGT9pI0mCdj"
      },
      "execution_count": null,
      "outputs": []
    },
    {
      "cell_type": "code",
      "source": [
        "plt.hist(df['Area (m^2)'])\n",
        "print(diagnostic.kstest_normal(df['Area (m^2)'], dist='exp'))\n",
        "print(diagnostic.kstest_normal(df['Area (m^2)'], dist='norm'))"
      ],
      "metadata": {
        "id": "HR5l6MmFsOJb"
      },
      "execution_count": null,
      "outputs": []
    },
    {
      "cell_type": "code",
      "source": [
        "df['Area (m^2)'] = pow(df['Area (m^2)'],2)\n",
        "sns.lmplot(x='Area (m^2)', y='Price (€)', data=df)"
      ],
      "metadata": {
        "id": "HeNClE6Dmncb"
      },
      "execution_count": null,
      "outputs": []
    },
    {
      "cell_type": "code",
      "source": [
        "plt.hist(df['Area (m^2)'])\n",
        "print(diagnostic.kstest_normal(df['Area (m^2)'], dist='exp'))\n",
        "print(diagnostic.kstest_normal(df['Area (m^2)'], dist='norm'))"
      ],
      "metadata": {
        "id": "bPdCvBFFsP2B"
      },
      "execution_count": null,
      "outputs": []
    },
    {
      "cell_type": "code",
      "source": [
        "from sklearn.model_selection import train_test_split\n",
        "from sklearn.linear_model import LinearRegression\n",
        "import numpy as np\n",
        "\n",
        "X = df.iloc[:, :-1]\n",
        "y = df.iloc[:, -1]\n",
        "\n",
        "feature_cols = df.columns[:-1]\n",
        "\n",
        "X_train, X_test, y_train, y_test = train_test_split(X, y, test_size=0.3, random_state=42)\n",
        "\n",
        "sorted_inds = np.argsort(X_train['Area (m^2)'])\n",
        "X_train = X_train.iloc[sorted_inds]\n",
        "y_train = y_train.iloc[sorted_inds]\n",
        "\n",
        "sorted_inds = np.argsort(X_test['Area (m^2)'])\n",
        "X_test = X_test.iloc[sorted_inds]\n",
        "y_test = y_test.iloc[sorted_inds]\n",
        "\n",
        "model = LinearRegression().fit(X_train, y_train)\n",
        "\n",
        "for f in range(len(feature_cols)):\n",
        "    print(\"{0} * {1} + \".format(model.coef_[f], feature_cols[f]))\n",
        "print(model.intercept_)\n",
        "\n",
        "# Predviđene trening vrijednosti:\n",
        "y_train_predicted = model.predict(X_train)\n",
        "\n",
        "diff = np.abs(y_train - y_train_predicted)\n",
        "plt.scatter(X_train, y_train, c='g')\n",
        "plt.scatter(X_train, y_train_predicted, c='r')\n",
        "\n",
        "plt.plot(X_train, diff, label='|y-h(x)|')\n",
        "plt.xlabel('Area (m^2)')\n",
        "plt.ylabel('Price (€)')\n",
        "plt.legend()\n",
        "plt.show()\n",
        "\n",
        "print('MSE na treningu:', mean_squared_error(y_train, y_train_predicted))\n"
      ],
      "metadata": {
        "id": "Dt6uzuAhm4JC"
      },
      "execution_count": null,
      "outputs": []
    },
    {
      "cell_type": "code",
      "source": [
        "# Predviđene testne vrijednosti:\n",
        "y_test_predicted = model.predict(X_test)\n",
        "\n",
        "diff = np.abs(y_test - y_test_predicted)\n",
        "plt.scatter(X_test, y_test, c='g')\n",
        "plt.scatter(X_test, y_test_predicted, c='r')\n",
        "\n",
        "plt.plot(X_test, diff, label='|y-h(x)|')\n",
        "plt.xlabel('Area (m^2)')\n",
        "plt.ylabel('Price (€)')\n",
        "plt.legend()\n",
        "plt.show()\n",
        "\n",
        "print('MSE na testu:', mean_squared_error(y_test, y_test_predicted))"
      ],
      "metadata": {
        "id": "MhEAeyvgnUfb"
      },
      "execution_count": null,
      "outputs": []
    },
    {
      "cell_type": "markdown",
      "source": [
        "## **Regularizacija** ##\n",
        "\n",
        "Kao što smo vidjeli, kod linearnog modela regresije možemo ostvariti različite složenosti modela odabirom odgovarajućih transformacija nad značajkama te uvođenjem novih značajki (povećanjem stupnja polinoma, uvođenjem interakcijskih članova i sl.). Ovisno o tome kakvu transformaciju odaberemo, model će biti više ili manje složen. Prethodno smo ustvrdili kako je jedan od glavnih ciljeva u strojnom učenju odabrati model primjerene složenosti za promatrani problem (ni prejednostavan, ni presložen). Uvođenjem novih značajki i provođenjem transformacija nad postojećim značajkama idemo u tom smjeru, no također povećavamo i opasnost od prenaučenosti modela. Prenaučenost modela može se pokušati spriječiti na razne načine koji su primarno usmjereni na obrađivanje skupa podataka (prikupljanje dodatnih podataka, odabir i transformacija značajjki i sl.). S druge strane, postoje i načini sprječavanja prenaučenosti modela koji su usmjereni na izmjenu samog modela. Najpoznatiji takav postupak u kontekstu regresije jest **regularizacija**.\n",
        "\n",
        "Regularizacija jest postupak kojim se sprječava odabir presloženih modela pri samom treniranju. Iako je ova ideja univerzalna u strojnom učenju, mi ćemo ju promotriti u kontekstu regresije. Za početak, možemo primijetiti kako složenost modela regresije izravno ovisi o težinama značajki (odnosno koeficijentima $\\beta$) te da će prenaučeni model imati visoke vrijednosti za mnoge značajke (pogotovo one koje uvode nelinearnost). S druge strane, što su težine uz nelinearne značajke bliže nuli, to je model manje složen. Kako bismo izbjegli visoke težine uz nelinearne značajke već pri samom treniranju modela, uvođenjem regularizacije u model možemo \"kazniti\" hipoteze s velikim težinama značajki. U praksi, to izgleda tako da treniramo model koji ima relativno visoku složenost, ali koristimo regularizaciju kako bismo mu efektivno smanjili složenost. Cilj regularizacije jest što više težina pritegnuti na nulu, kako bi se spriječila prenaučenost. \n",
        "\n",
        "Regularizacija se ostvaruje relativno jednostavno: u funkciju pogreške koju minimiziramo dodajemo član koji karakterizira složenost modela u ovisnosti o njegovim težinama. Tako dobijemo regulariziranu funkciju pogreške:\n",
        "\n",
        "$$ E(\\beta) + \\lambda Ω (\\beta) . $$ \n",
        "\n",
        "U ovom izrazu, $\\lambda$ je tzv. **regularizacijski faktor**. Ako je $\\lambda=0$, onda se vraćamo na neregulariziranu funkciju pogreške. Veća $\\lambda$ više će kažnjavati složenost modela i imat će za efektivnu posljedicu smanjenje složenosti modela. Uz određivanje $\\lambda$, potrebno je odrediti $\\Omega (\\beta)$ funkciju.\n",
        "\n",
        "### **L2-regularizacija (hrbatna regresija)**\n",
        "Kao funkcija $\\Omega (\\beta)$ najčešće se uzima norma vektora. Dakle, ova funkcija može se definirati kao:\n",
        "\n",
        "$$ \\Omega (\\beta) = ||\\beta||_p = (\\sum_{j=1}^m |\\beta_j|^p)^{\\frac{1}{p}} . $$\n",
        "\n",
        "U strojnom učenju, najčešće koristimo norme sa $p=0$, $p=1$ i $p=2$. L2-regularizacija daje tzv. hrbatnu regresiju (engl. *ridge regression*):\n",
        "\n",
        "$$ E(\\beta) = \\frac{1}{2} \\sum_{i=1}^N (\\beta^T h(x^{(i)}) - y^{(i)})^2 + \\frac{\\lambda}{2}||\\beta||_2^2. $$\n",
        "\n",
        "L2-regularizacija kažnjava hipotezu onoliko koliko njezine težine odstupaju od nule u smislu kvadratnog odstupanja (što znači da će veće težine biti kažnjene više, a manje težine će biti kažnjene manje).\n",
        "\n",
        "### **L1-regularizacija**\n",
        "\n",
        "Umjesto L2-regularizacije, možemo napraviti L1-regularizaciju ili LASSO regularizaciju (engl. *least absolute shrinkage and selection operator*):\n",
        "\n",
        "$$ E(\\beta) = \\frac{1}{2} \\sum_{i=1}^N (\\beta^T h(x^{(i)}) - y^{(i)})^2 + \\frac{\\lambda}{2} ||\\beta||_1. $$\n",
        "\n",
        "L1-regularizacija kažnjava hipotezu onoliko koliko njezine težine odstupaju od nule po apsolutnoj vrijednosti. L1-regularizacija nema kvadrat, pa će te malene težine kažnjavati više od L2-regularizacije. S druge strane, L2-regularizacija će male težine kažnjavati vrlo malo, i zapravo će ih vrlo teško dotjerati skroz do nule. Zbog toga će L1-regularizacija općenito rezultirati modelima kod kojih je više težina pritegnuto baš na nulu, tj. rezultirati će  rjeđim modelima nego L2-regularizacija. L1 i L2-regularizacije moguće je pozvati iz biblioteke scikit-learn pomoću Ridge i Lasso klasa iz modula linear_model. Optimalni tip regularizacije, kao i vrijednost parametra $\\lambda$, u pravilu se odabire u **koraku odabira modela**.\n"
      ],
      "metadata": {
        "id": "b03rlXHMs7bi"
      }
    },
    {
      "cell_type": "markdown",
      "source": [
        "## **Mjere za vrednovanje modela regresije** ##\n",
        "\n",
        "Vrednovanje modela važan je korak u strojnom učenju, a izvodi se tijekom treniranja i odabira modela. Već smo spomenuli mjeru MSE koja se izvodi iz funkcije gubitka algoritma linearne regresije, a ukazuje na srednje kvadratno odstupanje stvarnih i predviđenih vrijednosti. Uz ovu mjeru, još česte mjere za vrednovanje modela regresije jesu mjere RMSE (engl. *root mean square error*) i MAE (engl. *mean absolute error*). Mjera RMSE računa se kao \n",
        "\n",
        "$$ RMSE = \\sqrt{MSE} . $$\n",
        "\n",
        "Često se koristi umjesto MSE, kada je vrijednost MSE prevelika da bi se direktno usporili različiti algoritmi. Drugim riječima, RMSE je jednostavnije interpretirati od MSE. \n",
        "\n",
        "Mjera MAE jest slična mjeri MSE, uz razliku da se promatraju apsolutna odstupanja između stvarnih i predviđenih vrijednosti, a ne kvadratna.\n",
        "\n",
        "$$ MAE = \\frac{1}{N} \\sum_{i=1}^N |y^{(i)} - h (x^{(i)})| . $$\n",
        "\n",
        "U usporedbi s MSE ili RMSE, MAE jest direktnija reprezentacija sume odstupanja (reziduala). MSE više kažnjava veća odstupanja zbog kvadriranja, dok MAE sva odstupanja tretira jednako. \n",
        "\n"
      ],
      "metadata": {
        "id": "SoTVsCheyBYs"
      }
    },
    {
      "cell_type": "markdown",
      "source": [
        "# **Literatura**\n",
        "\n",
        "\n",
        "---\n",
        "\n",
        "[1] Materijali za predmet Applied Data Analysis (ADA) na EPFL\n",
        "\n",
        "[2] McKinney, W., 2012. *Python for data analysis*. O'Reilly Media, Inc.\n",
        "\n",
        "[3] Materijali za predmet Strojno učenje na FER (https://strojnoucenje.takelab.fer.hr/)"
      ],
      "metadata": {
        "id": "OhRznouBPXkn"
      }
    }
  ]
}